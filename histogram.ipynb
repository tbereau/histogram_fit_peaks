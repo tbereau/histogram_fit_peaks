{
 "cells": [
  {
   "cell_type": "code",
   "execution_count": 96,
   "metadata": {},
   "outputs": [],
   "source": [
    "import numpy as np\n",
    "import matplotlib as plt"
   ]
  },
  {
   "cell_type": "code",
   "execution_count": 97,
   "metadata": {},
   "outputs": [],
   "source": [
    "def check_all_same(peaks, dev, lsp):\n",
    "    all_true = True\n",
    "    for p in peaks:\n",
    "        dig = np.digitize([p-dev,p+dev], lsp)\n",
    "        if (dig[0] != dig[1]): return False\n",
    "    return True\n",
    "\n",
    "def find_highest_step(peaks, dev, xmin, xmax, step_max=180):\n",
    "    step_best = 1\n",
    "    for step in range(5,step_max):\n",
    "        lsp = np.linspace(xmin, xmax, step)\n",
    "        if (check_all_same(peaks, dev, lsp) == True and step > step_best):\n",
    "            step_best = step\n",
    "    return step_best"
   ]
  },
  {
   "cell_type": "code",
   "execution_count": 98,
   "metadata": {},
   "outputs": [],
   "source": [
    "xmin, xmax = 2*60., 24*60.\n",
    "peaks = np.array([7.9, 13.23, 18.67])*60.\n",
    "dev = 0.04*60."
   ]
  },
  {
   "cell_type": "code",
   "execution_count": 99,
   "metadata": {},
   "outputs": [
    {
     "name": "stdout",
     "output_type": "stream",
     "text": [
      "Best step is 155\n"
     ]
    }
   ],
   "source": [
    "best_step = find_highest_step(peaks, dev, xmin, xmax)\n",
    "print \"Best step is\",best_step"
   ]
  },
  {
   "cell_type": "code",
   "execution_count": null,
   "metadata": {},
   "outputs": [],
   "source": []
  }
 ],
 "metadata": {
  "kernelspec": {
   "display_name": "Python 2",
   "language": "python",
   "name": "python2"
  },
  "language_info": {
   "codemirror_mode": {
    "name": "ipython",
    "version": 2
   },
   "file_extension": ".py",
   "mimetype": "text/x-python",
   "name": "python",
   "nbconvert_exporter": "python",
   "pygments_lexer": "ipython2",
   "version": "2.7.15"
  }
 },
 "nbformat": 4,
 "nbformat_minor": 2
}
